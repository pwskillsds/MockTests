{
  "nbformat": 4,
  "nbformat_minor": 0,
  "metadata": {
    "colab": {
      "provenance": [],
      "authorship_tag": "ABX9TyNk3ChGAWBbinGKyXvwVOPs",
      "include_colab_link": true
    },
    "kernelspec": {
      "name": "python3",
      "display_name": "Python 3"
    },
    "language_info": {
      "name": "python"
    }
  },
  "cells": [
    {
      "cell_type": "markdown",
      "metadata": {
        "id": "view-in-github",
        "colab_type": "text"
      },
      "source": [
        "<a href=\"https://colab.research.google.com/github/pwskillsds/MockTests/blob/main/DSA_Mock_Test_1_Python.ipynb\" target=\"_parent\"><img src=\"https://colab.research.google.com/assets/colab-badge.svg\" alt=\"Open In Colab\"/></a>"
      ]
    },
    {
      "cell_type": "code",
      "execution_count": 1,
      "metadata": {
        "id": "qi6plSJuz7Sr"
      },
      "outputs": [],
      "source": [
        "## Move Zeroes\n",
        "\n",
        "def moveZeroes(nums):\n",
        "    left = 0  # Pointer to track the position of the non-zero elements\n",
        "\n",
        "    # Iterate through the array\n",
        "    for i in range(len(nums)):\n",
        "        # If the current element is non-zero\n",
        "        if nums[i] != 0:\n",
        "            # Swap the current element with the element at the left pointer\n",
        "            nums[i], nums[left] = nums[left], nums[i]\n",
        "            left += 1  # Move the left pointer to the next position\n",
        "\n",
        "    return nums\n"
      ]
    },
    {
      "cell_type": "code",
      "source": [
        "moveZeroes([0,1,0,3,12])"
      ],
      "metadata": {
        "colab": {
          "base_uri": "https://localhost:8080/"
        },
        "id": "85hqvGDz1Kas",
        "outputId": "667f9573-b341-42ff-ba12-c4fa270f834f"
      },
      "execution_count": 2,
      "outputs": [
        {
          "output_type": "execute_result",
          "data": {
            "text/plain": [
              "[1, 3, 12, 0, 0]"
            ]
          },
          "metadata": {},
          "execution_count": 2
        }
      ]
    },
    {
      "cell_type": "code",
      "source": [
        "moveZeroes([0])"
      ],
      "metadata": {
        "colab": {
          "base_uri": "https://localhost:8080/"
        },
        "id": "IKPpou2N1k-Y",
        "outputId": "6764899b-51fc-4d58-afad-906af2beb2cd"
      },
      "execution_count": 3,
      "outputs": [
        {
          "output_type": "execute_result",
          "data": {
            "text/plain": [
              "[0]"
            ]
          },
          "metadata": {},
          "execution_count": 3
        }
      ]
    },
    {
      "cell_type": "code",
      "source": [
        "## First Unique Character in a String\n",
        "\n",
        "def firstUniqChar(s):\n",
        "    char_count = {}  # Dictionary to store character counts\n",
        "\n",
        "    # Count the occurrences of each character\n",
        "    for char in s:\n",
        "        char_count[char] = char_count.get(char, 0) + 1\n",
        "\n",
        "    # Find the first non-repeating character and return its index\n",
        "    for i in range(len(s)):\n",
        "        if char_count[s[i]] == 1:\n",
        "            return i\n",
        "\n",
        "    return -1  # Return -1 if no non-repeating character is found\n"
      ],
      "metadata": {
        "id": "ObiZnRyx1pur"
      },
      "execution_count": 4,
      "outputs": []
    },
    {
      "cell_type": "code",
      "source": [
        "firstUniqChar(\"leetcode\")"
      ],
      "metadata": {
        "colab": {
          "base_uri": "https://localhost:8080/"
        },
        "id": "_W72e4-r2alp",
        "outputId": "e9c6a093-06a2-4116-d3f8-09aee9b9455e"
      },
      "execution_count": 5,
      "outputs": [
        {
          "output_type": "execute_result",
          "data": {
            "text/plain": [
              "0"
            ]
          },
          "metadata": {},
          "execution_count": 5
        }
      ]
    },
    {
      "cell_type": "code",
      "source": [
        "firstUniqChar(\"loveleetcode\")"
      ],
      "metadata": {
        "colab": {
          "base_uri": "https://localhost:8080/"
        },
        "id": "JL9S2Sox2kBM",
        "outputId": "9a48734a-58ab-4171-8e1b-ede085995b9f"
      },
      "execution_count": 6,
      "outputs": [
        {
          "output_type": "execute_result",
          "data": {
            "text/plain": [
              "2"
            ]
          },
          "metadata": {},
          "execution_count": 6
        }
      ]
    },
    {
      "cell_type": "code",
      "source": [
        "firstUniqChar(\"aabb\")"
      ],
      "metadata": {
        "colab": {
          "base_uri": "https://localhost:8080/"
        },
        "id": "p8Qf_yvo2s46",
        "outputId": "b2330cf3-2127-4f09-af7b-5ce1596d8f5c"
      },
      "execution_count": 7,
      "outputs": [
        {
          "output_type": "execute_result",
          "data": {
            "text/plain": [
              "-1"
            ]
          },
          "metadata": {},
          "execution_count": 7
        }
      ]
    }
  ]
}